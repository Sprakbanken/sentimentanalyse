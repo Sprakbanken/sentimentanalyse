{
 "cells": [
  {
   "cell_type": "code",
   "execution_count": 1,
   "metadata": {},
   "outputs": [
    {
     "name": "stdout",
     "output_type": "stream",
     "text": [
      "wordcloud er ikke installert, kan ikke lage ordskyer\n"
     ]
    }
   ],
   "source": [
    "#!pip install -U dhlab\n",
    "import os \n",
    "import datetime as dt\n",
    "import pandas as pd\n",
    "\n",
    "import dhlab as dh\n",
    "from sentiment import load_corpus_from_file, count_and_score_target_words\n"
   ]
  },
  {
   "cell_type": "markdown",
   "metadata": {},
   "source": [
    "# Sentimentanalyse i aviskorpus \n",
    "\n",
    "1. [Hent inn korpus](#korpusdefinisjon)\n",
    "2. [Score sentiment for forekomster av et ord](#sentimentscore) \n",
    "3. [Lagre resultater i CSV-fil](#lagre-data)"
   ]
  },
  {
   "cell_type": "markdown",
   "metadata": {},
   "source": [
    "## Korpusdefinisjon\n",
    "\n",
    "**Fyll inn filsti** til lokal csv- eller excel-fil med korpusdefinisjon:\n"
   ]
  },
  {
   "cell_type": "code",
   "execution_count": 2,
   "metadata": {},
   "outputs": [],
   "source": [
    "# INPUT KREVES\n",
    "file_path = \"FYLL INN\""
   ]
  },
  {
   "cell_type": "markdown",
   "metadata": {},
   "source": [
    "Eventuelt **definer et korpus**  direkte med parametere"
   ]
  },
  {
   "cell_type": "code",
   "execution_count": 3,
   "metadata": {},
   "outputs": [],
   "source": [
    "# INPUT KREVES\n",
    "word = \"biblioteket\"\n",
    "city=\"Kristiansand\"\n",
    "from_year=2000\n",
    "to_year=2022\n",
    "number_of_docs=10000\n"
   ]
  },
  {
   "cell_type": "code",
   "execution_count": 5,
   "metadata": {},
   "outputs": [
    {
     "name": "stdout",
     "output_type": "stream",
     "text": [
      "Lastet corpus fra parametere: \n",
      "Aviser, utgitt mellom 2000 og 2022 i Kristiansand, der ordet \"biblioteket\" forekommer.\n",
      "corpus består av 3441 utgivelser\n"
     ]
    }
   ],
   "source": [
    "# korpusdefinisjonen tas vare på i corpus-variabelen som et dhlab.Corpus-objekt\n",
    "\n",
    "if os.path.exists(file_path):\n",
    "    corpus = load_corpus_from_file(file_path)\n",
    "\n",
    "    print(\"Lastet corpus fra fil: \", file_path)\n",
    "else:\n",
    "    corpus = dh.Corpus(\n",
    "        doctype=\"digavis\", \n",
    "        fulltext=word, \n",
    "        freetext=f\"city: {city}\",\n",
    "        from_year=from_year,\n",
    "        to_year = to_year,\n",
    "        limit=number_of_docs\n",
    "    )\n",
    "\n",
    "    print(\"Lastet corpus fra parametere: \")\n",
    "    print(f\"Aviser, utgitt mellom {from_year} og {to_year} i {city}, der ordet \\\"{word}\\\" forekommer.\")\n",
    "\n",
    "print(f\"corpus består av {corpus.size} utgivelser\")"
   ]
  },
  {
   "cell_type": "markdown",
   "metadata": {},
   "source": [
    "## Sentimentscore\n",
    "\n",
    "Beregn en sentimentscore til kontekstene der nøkkelordet forekommer.\n",
    "\n",
    "Fyll inn antall ord som skal telles med i konteksten før og etter nøkkelordet. "
   ]
  },
  {
   "cell_type": "code",
   "execution_count": 8,
   "metadata": {},
   "outputs": [],
   "source": [
    "# INPUT KREVES\n",
    "before=10\n",
    "after=10"
   ]
  },
  {
   "cell_type": "markdown",
   "metadata": {},
   "source": [
    "**Valgfritt: Søk på flere ord**\n",
    "\n",
    "_OBS! Tidkrevende prosess._\n",
    "\n",
    "* Fyll inn listen i `search_terms` med søkeordene du er interessert i.\n",
    "* I funksjonskallet til `count_and_score_target_words()` (i kodeblokken nedenfor), bytt ut variabelen `word` med `search_terms`"
   ]
  },
  {
   "cell_type": "code",
   "execution_count": null,
   "metadata": {},
   "outputs": [],
   "source": [
    "# INPUT KREVES\n",
    "search_terms = \"\"\"\n",
    "biblioteket\n",
    "folkebiblioteket\n",
    "bibliotek\n",
    "skolebiblioteket\n",
    "nasjonalbiblioteket\n",
    "bibliografi\n",
    "\"\"\""
   ]
  },
  {
   "cell_type": "code",
   "execution_count": 9,
   "metadata": {},
   "outputs": [],
   "source": [
    "result = count_and_score_target_words(corpus, word)"
   ]
  },
  {
   "cell_type": "markdown",
   "metadata": {},
   "source": [
    "##  Lagre data \n",
    "\n",
    "**Skriv utdata** til en CSV-fil på ditt lokale filsystem.\n",
    "\n",
    "Kolonner:\n",
    "-  dhlab-ID (digitalt tekstobjekt)\n",
    "-  URN (digitalt bilde av tekstdokument)\n",
    "-  avistittel\n",
    "-  sted\n",
    "-  dato\n",
    "-  nøkkelord\n",
    "-  ordfrekvens\n",
    "-  postiv score\n",
    "-  negativ score\n",
    "-  sum sentimentscore\n"
   ]
  },
  {
   "cell_type": "code",
   "execution_count": null,
   "metadata": {},
   "outputs": [],
   "source": [
    "outputfile = f\"sentimentanalyse_aviskorpus_{from_year}-{to_year}_{dt.date.today()}.csv\"\n",
    "result.to_csv(outputfile)"
   ]
  }
 ],
 "metadata": {
  "kernelspec": {
   "display_name": "Python 3.10.8 64-bit ('sent_env')",
   "language": "python",
   "name": "python3"
  },
  "language_info": {
   "codemirror_mode": {
    "name": "ipython",
    "version": 3
   },
   "file_extension": ".py",
   "mimetype": "text/x-python",
   "name": "python",
   "nbconvert_exporter": "python",
   "pygments_lexer": "ipython3",
   "version": "3.10.8"
  },
  "orig_nbformat": 4,
  "vscode": {
   "interpreter": {
    "hash": "9a8c1f7e635ada3b876a4f311643148c1f43801c1fca4ca56542efee731d77d1"
   }
  }
 },
 "nbformat": 4,
 "nbformat_minor": 2
}
