{
 "cells": [
  {
   "attachments": {
    "DHlab_logo_web_no_red.png": {
     "image/png": "[encoded data removed]"
    }
   },
   "cell_type": "markdown",
   "metadata": {},
   "source": [
    "![DHlab_logo_web_no_red.png](attachment:DHlab_logo_web_no_red.png)"
   ]
  },
  {
   "cell_type": "code",
   "execution_count": 1,
   "metadata": {},
   "outputs": [
    {
     "name": "stdout",
     "output_type": "stream",
     "text": [
      "wordcloud er ikke installert, kan ikke lage ordskyer\n"
     ]
    }
   ],
   "source": [
    "#!pip install -U dhlab\n",
    "import dhlab as dh"
   ]
  },
  {
   "cell_type": "markdown",
   "metadata": {
    "slideshow": {
     "slide_type": "slide"
    }
   },
   "source": [
    "# Korpusdefinisjon\n",
    "Her viser vi ulike måter man kan bygge et korpus, et tekstutvalg, fra NBs samling. Avgrensningen kan defineres med utgivelsens metadata, eller innhold i selve teksten.\n",
    "\n",
    "Korpuset man får tilbake er en samling dokument-IDer (URN = uniform resource name) og metadata. En URN refererer til en enkeltutgave av en publikasjon som er skannet hos NB.\n",
    "Metadata kan være dewey desimalkode, bibliografiske emneord, tittel, forfatter, publikasjonsår og -dato, etc. \n",
    "Her kan [Webdewey](http://deweysearchno.pansoft.de/webdeweysearch/index.html) være til god hjelp.\n",
    "\n",
    "**Tips:** \n",
    "Trykk `shift`+`tab` i parentesen i en funksjon (f.eks. `dh.Corpus(...)` ) for å se hvilke parametre som kan søkes på, og hva som er default-innstillinger."
   ]
  },
  {
   "cell_type": "markdown",
   "metadata": {},
   "source": [
    "## 1. Bygg aviskorpus fra metadata\n",
    "\n",
    "Fyll inn variablene i kodeblokken nedenfor. \n",
    "\n",
    "\n",
    "- `search_term`: Nøkkelord som skal forekomme minst én gang per utgivelse i korpuset\n",
    "- `from_year`: Start på tidsperiode, fra 01.01. det året.\n",
    "- `to_year`: Slutt på tidsperiode, til 31.12. det året.\n",
    "- valgfrie variabler: \n",
    "  - `limit`: Maks antall avisutgivelser per dag. \n",
    "    - OBS! Et høyt tall vil gi ekstremt store utvalg per dag og ta lang tid å prosessere.\n",
    "  - `cities`: publikasjonssted(er) for avisen. \n",
    "    - Kan ha flere verdier, separert med komma eller linjeskift. Eksempler:\n",
    "      -  `\"Stavanger\"`\n",
    "      -  `\"Stavanger,Oslo,Kristiansand\"`\n",
    "      -  ```\n",
    "         \"\"\"\n",
    "         Stavanger\n",
    "         Oslo\n",
    "         Kristiansand\n",
    "         \"\"\"\n",
    "         ```\n",
    "  - `title`: Avistittel.  \n",
    "    - OBS! små bokstaver, ingen spesialtegn (æøå), ingen mellomrom i hver tittel. \n",
    "    - Titler kan være kommaseparert eller linjeseparert. Eksempler:\n",
    "      - `\"askoyvaeringen\"`\n",
    "      - `\"askoyvaeringen,kystogfjord\"`\n",
    "      - ```\n",
    "         \"\"\"\n",
    "         askoyvaeringen\n",
    "         kystogfjord\n",
    "         fiskeribladettjue\n",
    "         \"\"\"\n",
    "         ```"
   ]
  },
  {
   "cell_type": "code",
   "execution_count": 4,
   "metadata": {},
   "outputs": [],
   "source": [
    "# Angi et gitt nøkkelord som skal forekomme minst én gang per utgivelse i korpuset i avisteksten\n",
    "search_term = \"barnevern\"\n",
    "\n",
    "# Tidsperiode\n",
    "from_year = 1999\n",
    "to_year = 2022\n",
    "\n",
    "# begrensning på antall aviser per dag\n",
    "docs_per_day = 10\n",
    "\n",
    "# Avistitler\n",
    "titles = \"\"      \n",
    "\n",
    "## Publikasjonssted for avisen(e)\n",
    "cities = \"\""
   ]
  },
  {
   "cell_type": "code",
   "execution_count": 5,
   "metadata": {},
   "outputs": [],
   "source": [
    "# FIXME: Flytt funksjoner inn i modul\n",
    "\n",
    "\n",
    "def make_list(value):\n",
    "    \"\"\"Turn a string or list into a list.\n",
    "\n",
    "    :param value: Can be a list, a single valued string, a comma-separated string of values,\n",
    "        or a multiline string of values separated by newline.\n",
    "\n",
    "    \"\"\"\n",
    "    if isinstance(value, str):\n",
    "        if value.__contains__(\"\\n\"):\n",
    "            newlist = value.strip(\"\\n\").strip().split(\"\\n\")\n",
    "        elif value.__contains__(\",\"):\n",
    "            newlist = value.split(\",\")\n",
    "        else:\n",
    "            newlist = [value]\n",
    "        return [v.strip() for v in newlist]\n",
    "    else:\n",
    "        assert isinstance(value, list)\n",
    "        return value\n",
    "\n",
    "\n",
    "def timestamp_generator(from_year, to_year):\n",
    "    \"\"\"Generate a timestamp per day in the period ``from_year``-``to_year``.\"\"\"\n",
    "    # range of timestamps\n",
    "    timestamp_range = pd.date_range(start=f\"{from_year}-01-01\", end=f\"{to_year}-12-31\")\n",
    "\n",
    "    for i in timestamp_range:\n",
    "        date = \"\".join(str(i).split()[0].split(\"-\"))\n",
    "        yield date\n",
    "\n",
    "\n",
    "def read_spreadsheet(file_path):\n",
    "    return pd.read_excel(file_path) if file_path.endswith(\".xlsx\") else pd.read_csv(file_path)\n",
    "\n",
    "\n",
    "def specific_news_corpus(**params):\n",
    "        r = requests.post(\"https://api.nb.no/dhlab/build_corpus\", json=params)\n",
    "        assert (r.status_code == 200) and (r.json())\n",
    "        return r.json()\n",
    "\n",
    "def corpus_generator_json(\n",
    "    keyword: str = search_term, \n",
    "    from_year: int = from_year,\n",
    "    to_year: int = to_year,\n",
    "    limit: int = 10\n",
    ") -> dict:\n",
    "    \"\"\"Generate a large corpus of daily newspapers where ``keyword`` appears.\"\"\"\n",
    "    for date in timestamp_generator(from_year, to_year):\n",
    "        parameters = {\n",
    "            \"doctype\": \"digavis\",\n",
    "            #\"title\":title,\n",
    "            #\"city\": city,\n",
    "            \"freetext\": f\"timestamp: {date}\",\n",
    "            \"fulltext\": keyword,\n",
    "            \"limit\": limit\n",
    "            }\n",
    "        try:\n",
    "            json_obj = specific_news_corpus(**parameters)\n",
    "            yield json_obj\n",
    "        except AssertionError as e:\n",
    "            continue\n",
    "\n",
    "def corpus_generator_df(\n",
    "    keyword: str = search_term, \n",
    "    from_year: int = from_year,\n",
    "    to_year: int = to_year,\n",
    "    limit: int = 10\n",
    ") -> dh.Corpus:\n",
    "    for date in timestamp_generator(from_year, to_year):\n",
    "        subcorpus = dh.Corpus(doctype=\"digavis\", fulltext=keyword, freetext=f\"timestamp: {date}\", limit=limit)\n",
    "        if subcorpus.frame.empty:\n",
    "            continue\n",
    "        else: \n",
    "            yield subcorpus\n",
    "\n",
    "def strip_empty_cols(dhobj): \n",
    "    return dhobj.frame.dropna(axis=1, how=\"all\").fillna(\"\")\n"
   ]
  },
  {
   "cell_type": "code",
   "execution_count": null,
   "metadata": {},
   "outputs": [],
   "source": [
    "# Bygg korpus iterativt av aviser for tidsperioden der \"search_term\" forekommer\n",
    "\n",
    "subcorpgen = corpus_generator_df(\n",
    "    keyword=search_term, from_year=1999, to_year=2000, limit=docs_per_day)\n"
   ]
  },
  {
   "cell_type": "code",
   "execution_count": 6,
   "metadata": {},
   "outputs": [],
   "source": [
    "keyword=search_term\n",
    "date = 20010612\n",
    "limit=10\n",
    "subcorpus = dh.Corpus(\n",
    "    doctype=\"digavis\", \n",
    "    fulltext=keyword, \n",
    "    freetext=f\"timestamp: {date}\", \n",
    "    limit=limit)\n",
    "\n",
    "def strip_empty_cols(dhobj): \n",
    "    return dhobj.frame.dropna(axis=1, how=\"all\").fillna(\"\")\n",
    "\n",
    "news_meta_df = strip_empty_cols(subcorpus)"
   ]
  },
  {
   "cell_type": "code",
   "execution_count": 9,
   "metadata": {},
   "outputs": [],
   "source": [
    "korpus = dh.Corpus(\n",
    "    doctype=\"digavis\", \n",
    "    author=None, \n",
    "    freetext=None, \n",
    "    fulltext=\"barnevern\",  # ord som skal forekomme i teksten\n",
    "    from_year=1990, \n",
    "    to_year=2000, \n",
    "    from_timestamp=None, \n",
    "    to_timestamp=None, \n",
    "    title=None,           # Navn på avis\n",
    "    ddk=None, \n",
    "    subject=None,  \n",
    "    lang=None,        # 3-sifrede Språkkoder (f.eks. \"nob\", \"nno\")\n",
    "    limit=50000       # Antall dokumenter (her: antall avisutgaver) \n",
    ")\n"
   ]
  },
  {
   "cell_type": "code",
   "execution_count": 2,
   "metadata": {},
   "outputs": [
    {
     "ename": "NameError",
     "evalue": "name 'korpus' is not defined",
     "output_type": "error",
     "traceback": [
      "\u001b[0;31m---------------------------------------------------------------------------\u001b[0m",
      "\u001b[0;31mNameError\u001b[0m                                 Traceback (most recent call last)",
      "Cell \u001b[0;32mIn [2], line 1\u001b[0m\n\u001b[0;32m----> 1\u001b[0m dataframe \u001b[39m=\u001b[39m korpus\u001b[39m.\u001b[39mcorpus\n\u001b[1;32m      2\u001b[0m dataframe\u001b[39m.\u001b[39mtitle\u001b[39m.\u001b[39munique()\n",
      "\u001b[0;31mNameError\u001b[0m: name 'korpus' is not defined"
     ]
    }
   ],
   "source": [
    "dataframe = korpus.corpus\n",
    "dataframe.title.unique()"
   ]
  },
  {
   "cell_type": "code",
   "execution_count": 11,
   "metadata": {},
   "outputs": [
    {
     "data": {
      "text/plain": [
       "'URN:NBN:no-nb_digavis_fiskeribladet_null_null_19920722_47_50_1'"
      ]
     },
     "execution_count": 11,
     "metadata": {},
     "output_type": "execute_result"
    }
   ],
   "source": [
    "dataframe[\"urn\"][0]"
   ]
  },
  {
   "cell_type": "markdown",
   "metadata": {
    "tags": []
   },
   "source": [
    "### 1.2. Lagre korpuset til csv"
   ]
  },
  {
   "cell_type": "code",
   "execution_count": 5,
   "metadata": {},
   "outputs": [],
   "source": [
    "filsti = 'korpus_aviser_2006-2020.csv'"
   ]
  },
  {
   "cell_type": "code",
   "execution_count": 6,
   "metadata": {},
   "outputs": [],
   "source": [
    "dataframe.to_csv(filsti)"
   ]
  },
  {
   "cell_type": "markdown",
   "metadata": {},
   "source": [
    "### 1.3. Last opp korpus fra csv "
   ]
  },
  {
   "cell_type": "code",
   "execution_count": 37,
   "metadata": {},
   "outputs": [],
   "source": [
    "import pandas as pd \n",
    "\n",
    "korpus = pd.read_csv(filsti)\n"
   ]
  },
  {
   "cell_type": "markdown",
   "metadata": {},
   "source": [
    "Tilbake til [DHLAB ved Nasjonalbiblioteket](https://nbviewer.jupyter.org/github/DH-LAB-NB/DHLAB/blob/master/DHLAB_ved_Nasjonalbiblioteket.ipynb)"
   ]
  }
 ],
 "metadata": {
  "kernelspec": {
   "display_name": "Python 3.10.8 64-bit ('sent_env')",
   "language": "python",
   "name": "python3"
  },
  "language_info": {
   "codemirror_mode": {
    "name": "ipython",
    "version": 3
   },
   "file_extension": ".py",
   "mimetype": "text/x-python",
   "name": "python",
   "nbconvert_exporter": "python",
   "pygments_lexer": "ipython3",
   "version": "3.10.8"
  },
  "toc": {
   "base_numbering": 1,
   "nav_menu": {},
   "number_sections": true,
   "sideBar": true,
   "skip_h1_title": false,
   "title_cell": "Table of Contents",
   "title_sidebar": "Contents",
   "toc_cell": false,
   "toc_position": {},
   "toc_section_display": true,
   "toc_window_display": false
  },
  "varInspector": {
   "cols": {
    "lenName": 16,
    "lenType": 16,
    "lenVar": 40
   },
   "kernels_config": {
    "python": {
     "delete_cmd_postfix": "",
     "delete_cmd_prefix": "del ",
     "library": "var_list.py",
     "varRefreshCmd": "print(var_dic_list())"
    },
    "r": {
     "delete_cmd_postfix": ") ",
     "delete_cmd_prefix": "rm(",
     "library": "var_list.r",
     "varRefreshCmd": "cat(var_dic_list()) "
    }
   },
   "types_to_exclude": [
    "module",
    "function",
    "builtin_function_or_method",
    "instance",
    "_Feature"
   ],
   "window_display": false
  },
  "vscode": {
   "interpreter": {
    "hash": "9a8c1f7e635ada3b876a4f311643148c1f43801c1fca4ca56542efee731d77d1"
   }
  }
 },
 "nbformat": 4,
 "nbformat_minor": 4
}
