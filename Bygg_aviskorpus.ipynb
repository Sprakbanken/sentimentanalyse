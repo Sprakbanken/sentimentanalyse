{
 "cells": [
  {
   "attachments": {
    "DHlab_logo_web_no_red.png": {
     "image/png": "[encoded data removed]"
    }
   },
   "cell_type": "markdown",
   "metadata": {},
   "source": [
    "![DHlab_logo_web_no_red.png](attachment:DHlab_logo_web_no_red.png)"
   ]
  },
  {
   "cell_type": "code",
   "execution_count": 1,
   "metadata": {},
   "outputs": [
    {
     "name": "stdout",
     "output_type": "stream",
     "text": [
      "wordcloud er ikke installert, kan ikke lage ordskyer\n"
     ]
    }
   ],
   "source": [
    "#!pip install -U dhlab\n",
    "import dhlab as dh\n",
    "%matplotlib inline\n"
   ]
  },
  {
   "cell_type": "markdown",
   "metadata": {
    "slideshow": {
     "slide_type": "slide"
    }
   },
   "source": [
    "## 1. Bygg korpus fra metadata\n",
    "Her viser vi ulike måter man kan bygge korpus fra NBs samling. Et korpus kan enten være et utvalg bøker, eller et utvalg aviser. Avgrensningen kan være metadata eller innhold i selve teksten.\n",
    "\n",
    "Korpuset består av en samling URN-er (uniform resource name) og metadata. En URN refererer til enkeltutgaver av publikasjoner. \n",
    "Korpuset kan avgrenses med metadata som dewey, emneord, navn, publikasjonsår og -dato, etc. Her kan [Webdewey](http://deweysearchno.pansoft.de/webdeweysearch/index.html) være til god hjelp.\n",
    "\n",
    "For å se hvilke parametre som kan søkes på, og hva som er default-innstillinger: trykk `shift`+`tab` i parentesen i en funksjon (f.eks. `dh.Corpus(...)` )"
   ]
  },
  {
   "cell_type": "code",
   "execution_count": 9,
   "metadata": {},
   "outputs": [],
   "source": [
    "korpus = dh.Corpus(\n",
    "    doctype=\"digavis\", \n",
    "    author=None, \n",
    "    freetext=None, \n",
    "    fulltext=\"barnevern\",  # ord som skal forekomme i teksten\n",
    "    from_year=1990, \n",
    "    to_year=2000, \n",
    "    from_timestamp=None, \n",
    "    to_timestamp=None, \n",
    "    title=None,           # Navn på avis\n",
    "    ddk=None, \n",
    "    subject=None,  \n",
    "    lang=None,        # 3-sifrede Språkkoder (f.eks. \"nob\", \"nno\")\n",
    "    limit=50000       # Antall dokumenter (her: antall avisutgaver) \n",
    ")\n"
   ]
  },
  {
   "cell_type": "code",
   "execution_count": 10,
   "metadata": {},
   "outputs": [
    {
     "data": {
      "text/html": [
       "<div>\n",
       "<style scoped>\n",
       "    .dataframe tbody tr th:only-of-type {\n",
       "        vertical-align: middle;\n",
       "    }\n",
       "\n",
       "    .dataframe tbody tr th {\n",
       "        vertical-align: top;\n",
       "    }\n",
       "\n",
       "    .dataframe thead th {\n",
       "        text-align: right;\n",
       "    }\n",
       "</style>\n",
       "<table border=\"1\" class=\"dataframe\">\n",
       "  <thead>\n",
       "    <tr style=\"text-align: right;\">\n",
       "      <th></th>\n",
       "      <th>dhlabid</th>\n",
       "      <th>urn</th>\n",
       "      <th>title</th>\n",
       "      <th>authors</th>\n",
       "      <th>oaiid</th>\n",
       "      <th>sesamid</th>\n",
       "      <th>isbn10</th>\n",
       "      <th>city</th>\n",
       "      <th>timestamp</th>\n",
       "      <th>year</th>\n",
       "      <th>publisher</th>\n",
       "      <th>langs</th>\n",
       "      <th>subjects</th>\n",
       "      <th>ddc</th>\n",
       "      <th>genres</th>\n",
       "      <th>literaryform</th>\n",
       "      <th>doctype</th>\n",
       "    </tr>\n",
       "  </thead>\n",
       "  <tbody>\n",
       "    <tr>\n",
       "      <th>0</th>\n",
       "      <td>200552716</td>\n",
       "      <td>URN:NBN:no-nb_digavis_fiskeribladet_null_null_...</td>\n",
       "      <td>fiskeribladet</td>\n",
       "      <td>None</td>\n",
       "      <td>None</td>\n",
       "      <td>None</td>\n",
       "      <td>None</td>\n",
       "      <td>Harstad</td>\n",
       "      <td>19920722</td>\n",
       "      <td>1992</td>\n",
       "      <td>None</td>\n",
       "      <td>None</td>\n",
       "      <td>None</td>\n",
       "      <td>None</td>\n",
       "      <td>None</td>\n",
       "      <td>None</td>\n",
       "      <td>digavis</td>\n",
       "    </tr>\n",
       "    <tr>\n",
       "      <th>1</th>\n",
       "      <td>200552833</td>\n",
       "      <td>URN:NBN:no-nb_digavis_fiskeribladet_null_null_...</td>\n",
       "      <td>fiskeribladet</td>\n",
       "      <td>None</td>\n",
       "      <td>None</td>\n",
       "      <td>None</td>\n",
       "      <td>None</td>\n",
       "      <td>Harstad</td>\n",
       "      <td>19931111</td>\n",
       "      <td>1993</td>\n",
       "      <td>None</td>\n",
       "      <td>None</td>\n",
       "      <td>None</td>\n",
       "      <td>None</td>\n",
       "      <td>None</td>\n",
       "      <td>None</td>\n",
       "      <td>digavis</td>\n",
       "    </tr>\n",
       "    <tr>\n",
       "      <th>2</th>\n",
       "      <td>200552834</td>\n",
       "      <td>URN:NBN:no-nb_digavis_fiskeribladet_null_null_...</td>\n",
       "      <td>fiskeribladet</td>\n",
       "      <td>None</td>\n",
       "      <td>None</td>\n",
       "      <td>None</td>\n",
       "      <td>None</td>\n",
       "      <td>Harstad</td>\n",
       "      <td>19931116</td>\n",
       "      <td>1993</td>\n",
       "      <td>None</td>\n",
       "      <td>None</td>\n",
       "      <td>None</td>\n",
       "      <td>None</td>\n",
       "      <td>None</td>\n",
       "      <td>None</td>\n",
       "      <td>digavis</td>\n",
       "    </tr>\n",
       "    <tr>\n",
       "      <th>3</th>\n",
       "      <td>200553114</td>\n",
       "      <td>URN:NBN:no-nb_digavis_fiskeribladet_null_null_...</td>\n",
       "      <td>fiskeribladet</td>\n",
       "      <td>None</td>\n",
       "      <td>None</td>\n",
       "      <td>None</td>\n",
       "      <td>None</td>\n",
       "      <td>Harstad</td>\n",
       "      <td>19961105</td>\n",
       "      <td>1996</td>\n",
       "      <td>None</td>\n",
       "      <td>None</td>\n",
       "      <td>None</td>\n",
       "      <td>None</td>\n",
       "      <td>None</td>\n",
       "      <td>None</td>\n",
       "      <td>digavis</td>\n",
       "    </tr>\n",
       "    <tr>\n",
       "      <th>4</th>\n",
       "      <td>200553126</td>\n",
       "      <td>URN:NBN:no-nb_digavis_fiskeribladet_null_null_...</td>\n",
       "      <td>fiskeribladet</td>\n",
       "      <td>None</td>\n",
       "      <td>None</td>\n",
       "      <td>None</td>\n",
       "      <td>None</td>\n",
       "      <td>Harstad</td>\n",
       "      <td>19961217</td>\n",
       "      <td>1996</td>\n",
       "      <td>None</td>\n",
       "      <td>None</td>\n",
       "      <td>None</td>\n",
       "      <td>None</td>\n",
       "      <td>None</td>\n",
       "      <td>None</td>\n",
       "      <td>digavis</td>\n",
       "    </tr>\n",
       "    <tr>\n",
       "      <th>...</th>\n",
       "      <td>...</td>\n",
       "      <td>...</td>\n",
       "      <td>...</td>\n",
       "      <td>...</td>\n",
       "      <td>...</td>\n",
       "      <td>...</td>\n",
       "      <td>...</td>\n",
       "      <td>...</td>\n",
       "      <td>...</td>\n",
       "      <td>...</td>\n",
       "      <td>...</td>\n",
       "      <td>...</td>\n",
       "      <td>...</td>\n",
       "      <td>...</td>\n",
       "      <td>...</td>\n",
       "      <td>...</td>\n",
       "      <td>...</td>\n",
       "    </tr>\n",
       "    <tr>\n",
       "      <th>32777</th>\n",
       "      <td>202999470</td>\n",
       "      <td>URN:NBN:no-nb_digavis_aftenposten_null_null_19...</td>\n",
       "      <td>aftenposten</td>\n",
       "      <td>None</td>\n",
       "      <td>None</td>\n",
       "      <td>None</td>\n",
       "      <td>None</td>\n",
       "      <td>Oslo</td>\n",
       "      <td>19991217</td>\n",
       "      <td>1999</td>\n",
       "      <td>None</td>\n",
       "      <td>None</td>\n",
       "      <td>None</td>\n",
       "      <td>None</td>\n",
       "      <td>None</td>\n",
       "      <td>None</td>\n",
       "      <td>digavis</td>\n",
       "    </tr>\n",
       "    <tr>\n",
       "      <th>32778</th>\n",
       "      <td>202999474</td>\n",
       "      <td>URN:NBN:no-nb_digavis_aftenposten_null_null_19...</td>\n",
       "      <td>aftenposten</td>\n",
       "      <td>None</td>\n",
       "      <td>None</td>\n",
       "      <td>None</td>\n",
       "      <td>None</td>\n",
       "      <td>Oslo</td>\n",
       "      <td>19991220</td>\n",
       "      <td>1999</td>\n",
       "      <td>None</td>\n",
       "      <td>None</td>\n",
       "      <td>None</td>\n",
       "      <td>None</td>\n",
       "      <td>None</td>\n",
       "      <td>None</td>\n",
       "      <td>digavis</td>\n",
       "    </tr>\n",
       "    <tr>\n",
       "      <th>32779</th>\n",
       "      <td>202999478</td>\n",
       "      <td>URN:NBN:no-nb_digavis_aftenposten_null_null_19...</td>\n",
       "      <td>aftenposten</td>\n",
       "      <td>None</td>\n",
       "      <td>None</td>\n",
       "      <td>None</td>\n",
       "      <td>None</td>\n",
       "      <td>Oslo</td>\n",
       "      <td>19991222</td>\n",
       "      <td>1999</td>\n",
       "      <td>None</td>\n",
       "      <td>None</td>\n",
       "      <td>None</td>\n",
       "      <td>None</td>\n",
       "      <td>None</td>\n",
       "      <td>None</td>\n",
       "      <td>digavis</td>\n",
       "    </tr>\n",
       "    <tr>\n",
       "      <th>32780</th>\n",
       "      <td>202999487</td>\n",
       "      <td>URN:NBN:no-nb_digavis_aftenposten_null_null_19...</td>\n",
       "      <td>aftenposten</td>\n",
       "      <td>None</td>\n",
       "      <td>None</td>\n",
       "      <td>None</td>\n",
       "      <td>None</td>\n",
       "      <td>Oslo</td>\n",
       "      <td>19991229</td>\n",
       "      <td>1999</td>\n",
       "      <td>None</td>\n",
       "      <td>None</td>\n",
       "      <td>None</td>\n",
       "      <td>None</td>\n",
       "      <td>None</td>\n",
       "      <td>None</td>\n",
       "      <td>digavis</td>\n",
       "    </tr>\n",
       "    <tr>\n",
       "      <th>32781</th>\n",
       "      <td>202999490</td>\n",
       "      <td>URN:NBN:no-nb_digavis_aftenposten_null_null_19...</td>\n",
       "      <td>aftenposten</td>\n",
       "      <td>None</td>\n",
       "      <td>None</td>\n",
       "      <td>None</td>\n",
       "      <td>None</td>\n",
       "      <td>Oslo</td>\n",
       "      <td>19991230</td>\n",
       "      <td>1999</td>\n",
       "      <td>None</td>\n",
       "      <td>None</td>\n",
       "      <td>None</td>\n",
       "      <td>None</td>\n",
       "      <td>None</td>\n",
       "      <td>None</td>\n",
       "      <td>digavis</td>\n",
       "    </tr>\n",
       "  </tbody>\n",
       "</table>\n",
       "<p>32782 rows × 17 columns</p>\n",
       "</div>"
      ],
      "text/plain": [
       "         dhlabid                                                urn  \\\n",
       "0      200552716  URN:NBN:no-nb_digavis_fiskeribladet_null_null_...   \n",
       "1      200552833  URN:NBN:no-nb_digavis_fiskeribladet_null_null_...   \n",
       "2      200552834  URN:NBN:no-nb_digavis_fiskeribladet_null_null_...   \n",
       "3      200553114  URN:NBN:no-nb_digavis_fiskeribladet_null_null_...   \n",
       "4      200553126  URN:NBN:no-nb_digavis_fiskeribladet_null_null_...   \n",
       "...          ...                                                ...   \n",
       "32777  202999470  URN:NBN:no-nb_digavis_aftenposten_null_null_19...   \n",
       "32778  202999474  URN:NBN:no-nb_digavis_aftenposten_null_null_19...   \n",
       "32779  202999478  URN:NBN:no-nb_digavis_aftenposten_null_null_19...   \n",
       "32780  202999487  URN:NBN:no-nb_digavis_aftenposten_null_null_19...   \n",
       "32781  202999490  URN:NBN:no-nb_digavis_aftenposten_null_null_19...   \n",
       "\n",
       "               title authors oaiid sesamid isbn10     city  timestamp  year  \\\n",
       "0      fiskeribladet    None  None    None   None  Harstad   19920722  1992   \n",
       "1      fiskeribladet    None  None    None   None  Harstad   19931111  1993   \n",
       "2      fiskeribladet    None  None    None   None  Harstad   19931116  1993   \n",
       "3      fiskeribladet    None  None    None   None  Harstad   19961105  1996   \n",
       "4      fiskeribladet    None  None    None   None  Harstad   19961217  1996   \n",
       "...              ...     ...   ...     ...    ...      ...        ...   ...   \n",
       "32777    aftenposten    None  None    None   None     Oslo   19991217  1999   \n",
       "32778    aftenposten    None  None    None   None     Oslo   19991220  1999   \n",
       "32779    aftenposten    None  None    None   None     Oslo   19991222  1999   \n",
       "32780    aftenposten    None  None    None   None     Oslo   19991229  1999   \n",
       "32781    aftenposten    None  None    None   None     Oslo   19991230  1999   \n",
       "\n",
       "      publisher langs subjects   ddc genres literaryform  doctype  \n",
       "0          None  None     None  None   None         None  digavis  \n",
       "1          None  None     None  None   None         None  digavis  \n",
       "2          None  None     None  None   None         None  digavis  \n",
       "3          None  None     None  None   None         None  digavis  \n",
       "4          None  None     None  None   None         None  digavis  \n",
       "...         ...   ...      ...   ...    ...          ...      ...  \n",
       "32777      None  None     None  None   None         None  digavis  \n",
       "32778      None  None     None  None   None         None  digavis  \n",
       "32779      None  None     None  None   None         None  digavis  \n",
       "32780      None  None     None  None   None         None  digavis  \n",
       "32781      None  None     None  None   None         None  digavis  \n",
       "\n",
       "[32782 rows x 17 columns]"
      ]
     },
     "execution_count": 10,
     "metadata": {},
     "output_type": "execute_result"
    }
   ],
   "source": [
    "dataframe = korpus.corpus\n",
    "dataframe"
   ]
  },
  {
   "cell_type": "code",
   "execution_count": 11,
   "metadata": {},
   "outputs": [
    {
     "data": {
      "text/plain": [
       "'URN:NBN:no-nb_digavis_fiskeribladet_null_null_19920722_47_50_1'"
      ]
     },
     "execution_count": 11,
     "metadata": {},
     "output_type": "execute_result"
    }
   ],
   "source": [
    "dataframe[\"urn\"][0]"
   ]
  },
  {
   "cell_type": "markdown",
   "metadata": {
    "tags": []
   },
   "source": [
    "### 1.2. Lagre korpuset til csv"
   ]
  },
  {
   "cell_type": "code",
   "execution_count": 5,
   "metadata": {},
   "outputs": [],
   "source": [
    "filsti = 'korpus_aviser_2006-2020.csv'"
   ]
  },
  {
   "cell_type": "code",
   "execution_count": 6,
   "metadata": {},
   "outputs": [],
   "source": [
    "dataframe.to_csv(filsti)"
   ]
  },
  {
   "cell_type": "markdown",
   "metadata": {},
   "source": [
    "### 1.3. Last opp korpus fra csv "
   ]
  },
  {
   "cell_type": "code",
   "execution_count": 37,
   "metadata": {},
   "outputs": [],
   "source": [
    "import pandas as pd \n",
    "\n",
    "korpus = pd.read_csv(filsti)\n"
   ]
  },
  {
   "cell_type": "markdown",
   "metadata": {},
   "source": [
    "Tilbake til [DHLAB ved Nasjonalbiblioteket](https://nbviewer.jupyter.org/github/DH-LAB-NB/DHLAB/blob/master/DHLAB_ved_Nasjonalbiblioteket.ipynb)"
   ]
  }
 ],
 "metadata": {
  "kernelspec": {
   "display_name": "Python 3.11.0 64-bit ('sent_env')",
   "language": "python",
   "name": "python3"
  },
  "language_info": {
   "codemirror_mode": {
    "name": "ipython",
    "version": 3
   },
   "file_extension": ".py",
   "mimetype": "text/x-python",
   "name": "python",
   "nbconvert_exporter": "python",
   "pygments_lexer": "ipython3",
   "version": "3.11.0"
  },
  "toc": {
   "base_numbering": 1,
   "nav_menu": {},
   "number_sections": true,
   "sideBar": true,
   "skip_h1_title": false,
   "title_cell": "Table of Contents",
   "title_sidebar": "Contents",
   "toc_cell": false,
   "toc_position": {},
   "toc_section_display": true,
   "toc_window_display": false
  },
  "varInspector": {
   "cols": {
    "lenName": 16,
    "lenType": 16,
    "lenVar": 40
   },
   "kernels_config": {
    "python": {
     "delete_cmd_postfix": "",
     "delete_cmd_prefix": "del ",
     "library": "var_list.py",
     "varRefreshCmd": "print(var_dic_list())"
    },
    "r": {
     "delete_cmd_postfix": ") ",
     "delete_cmd_prefix": "rm(",
     "library": "var_list.r",
     "varRefreshCmd": "cat(var_dic_list()) "
    }
   },
   "types_to_exclude": [
    "module",
    "function",
    "builtin_function_or_method",
    "instance",
    "_Feature"
   ],
   "window_display": false
  },
  "vscode": {
   "interpreter": {
    "hash": "51fd2ae9ca02d773f7376f75b98c3d41f27fad8b792cb1e1a313b418e3d6c5af"
   }
  }
 },
 "nbformat": 4,
 "nbformat_minor": 4
}
